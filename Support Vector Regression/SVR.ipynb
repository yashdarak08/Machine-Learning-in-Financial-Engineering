{
  "cells": [
    {
      "cell_type": "markdown",
      "metadata": {
        "id": "ZZN6Dr4TKaqI"
      },
      "source": [
        "# Support Vector Regressors (SVR)"
      ]
    },
    {
      "cell_type": "markdown",
      "metadata": {
        "id": "alDzJzwVn_Kw"
      },
      "source": [
        "## Introduction"
      ]
    },
    {
      "cell_type": "markdown",
      "metadata": {
        "id": "dcrbiCUsKeqi"
      },
      "source": [
        "**Problem Statement:** We want to predict the stock price of Coca-Cola using time series data. Predicting future stock prices is a crucial task for investors and financial analysts aiming to make informed investment decisions. By leveraging datapoints such as historical stock prices, Consumer Spending, GDP growth, Inflation rate, Interest rates and unemployment rate, we aim to develop a predictive model that can forecast the future stock prices of Coca-Cola.\n",
        "\n",
        "**ML Model:**Support Vector Regression (SVR) is chosen for this task due to its ability to handle high-dimensional data and capture nonlinear relationships between the input features (economic time series variables) and the target variable (stock price). A few reason why SVR 'might' be a good choice are\n",
        "\n",
        "1. Handling Nonlinear Relationships: SVR is capable of capturing nonlinear relationships between the input features and the target variable (stock price). Economic indicators often exhibit complex and nonlinear patterns.\n",
        "2. Robustness to Outliers: Financial data can be noisy, containing outliers and irregular patterns. SVR is less sensitive to outliers compared to traditional regression techniques.\n",
        "3. Flexibility in Kernel Functions: SVR allows for the use of different kernel functions (such as linear, polynomial, radial basis function) to capture various types of relationships between the input features and the target variable. This flexibility enables SVR to adapt to the specific characteristics of the data and potentially improve prediction accuracy.\n",
        "4. Effective in High-Dimensional Spaces: Time series data often involve multiple variables. SVR is effective in high-dimensional spaces, making it suitable for modeling complex relationships between multiple input features and the target variable.\n",
        "5. Generalization Performance: SVR aims to minimize structural risk rather than empirical risk, which helps in achieving better generalization performance on unseen data. This is crucial for making accurate predictions of future stock prices, as the model needs to generalize well to new data points.\n",
        "\n",
        "**Dataset Description:**We do not have a readymade CSV file for this data. We will source the data from Yahoo Finance and FRED (Federal Reserve Bank of St. Louis). There are multiple steps involved in collecting the data which I will detail as we perform them instead of detailing them here. The choice of features to use as predictors is due to a high level understanding of what economic factors mostly influence the market (and hence the stock prices). These are speculative, and any other combination of factors can be used."
      ]
    },
    {
      "cell_type": "markdown",
      "metadata": {
        "id": "kN1DodavoVo5"
      },
      "source": [
        "Step 1: Collecting Stock Price data from Yahoo Finance. We Start collecting the data from the start of 2013 upto the present day in intervals of 3 months (or in other words, quaterly data). By executing the following code, we get the Open, High, Low and Closing values of the stock, we get the volume traded, dividends and stock split data as well."
      ]
    },
    {
      "cell_type": "code",
      "execution_count": 2,
      "metadata": {
        "id": "FK2U1KysoLOR"
      },
      "outputs": [],
      "source": [
        "import yfinance as yf\n",
        "from datetime import datetime\n",
        "\n",
        "# Define the stock symbol (KO for Coca-Cola)\n",
        "symbol = \"KO\"\n",
        "\n",
        "# Create a Ticker object for Coca-Cola\n",
        "ko = yf.Ticker(symbol)\n",
        "\n",
        "# Define custom start date and end date\n",
        "\n",
        "start_date = '2012-12-31'\n",
        "end_date = datetime.today()\n",
        "\n",
        "# Get daily data for the specified date range\n",
        "data = ko.history(start=start_date, end=end_date, interval=\"3mo\")\n",
        "\n",
        "# Resample to quarterly frequency (end of quarter)\n",
        "quarterly_data = data.resample('Q').last()\n",
        "\n",
        "# Reset the index to make the 'Date' column a regular column\n",
        "quarterly_data = quarterly_data.reset_index()"
      ]
    },
    {
      "cell_type": "code",
      "execution_count": 3,
      "metadata": {
        "id": "osFl3vqHo921"
      },
      "outputs": [
        {
          "data": {
            "text/html": [
              "<div>\n",
              "<style scoped>\n",
              "    .dataframe tbody tr th:only-of-type {\n",
              "        vertical-align: middle;\n",
              "    }\n",
              "\n",
              "    .dataframe tbody tr th {\n",
              "        vertical-align: top;\n",
              "    }\n",
              "\n",
              "    .dataframe thead th {\n",
              "        text-align: right;\n",
              "    }\n",
              "</style>\n",
              "<table border=\"1\" class=\"dataframe\">\n",
              "  <thead>\n",
              "    <tr style=\"text-align: right;\">\n",
              "      <th></th>\n",
              "      <th>Date</th>\n",
              "      <th>Open</th>\n",
              "      <th>High</th>\n",
              "      <th>Low</th>\n",
              "      <th>Close</th>\n",
              "      <th>Volume</th>\n",
              "      <th>Dividends</th>\n",
              "      <th>Stock Splits</th>\n",
              "    </tr>\n",
              "  </thead>\n",
              "  <tbody>\n",
              "    <tr>\n",
              "      <th>0</th>\n",
              "      <td>2012-12-31 00:00:00-05:00</td>\n",
              "      <td>25.769885</td>\n",
              "      <td>27.211995</td>\n",
              "      <td>25.442448</td>\n",
              "      <td>26.975126</td>\n",
              "      <td>627696600</td>\n",
              "      <td>0.00</td>\n",
              "      <td>0.0</td>\n",
              "    </tr>\n",
              "    <tr>\n",
              "      <th>1</th>\n",
              "      <td>2013-03-31 00:00:00-04:00</td>\n",
              "      <td>26.814881</td>\n",
              "      <td>30.256437</td>\n",
              "      <td>26.787014</td>\n",
              "      <td>27.859888</td>\n",
              "      <td>894424000</td>\n",
              "      <td>0.28</td>\n",
              "      <td>0.0</td>\n",
              "    </tr>\n",
              "    <tr>\n",
              "      <th>2</th>\n",
              "      <td>2013-06-30 00:00:00-04:00</td>\n",
              "      <td>28.033505</td>\n",
              "      <td>29.282556</td>\n",
              "      <td>26.524817</td>\n",
              "      <td>26.791470</td>\n",
              "      <td>863530400</td>\n",
              "      <td>0.28</td>\n",
              "      <td>0.0</td>\n",
              "    </tr>\n",
              "    <tr>\n",
              "      <th>3</th>\n",
              "      <td>2013-09-30 00:00:00-04:00</td>\n",
              "      <td>27.040236</td>\n",
              "      <td>28.884371</td>\n",
              "      <td>26.022784</td>\n",
              "      <td>28.396839</td>\n",
              "      <td>947889200</td>\n",
              "      <td>0.56</td>\n",
              "      <td>0.0</td>\n",
              "    </tr>\n",
              "    <tr>\n",
              "      <th>4</th>\n",
              "      <td>2013-12-31 00:00:00-05:00</td>\n",
              "      <td>28.739229</td>\n",
              "      <td>29.663759</td>\n",
              "      <td>26.438658</td>\n",
              "      <td>27.377522</td>\n",
              "      <td>975777300</td>\n",
              "      <td>0.00</td>\n",
              "      <td>0.0</td>\n",
              "    </tr>\n",
              "  </tbody>\n",
              "</table>\n",
              "</div>"
            ],
            "text/plain": [
              "                       Date       Open       High        Low      Close  \\\n",
              "0 2012-12-31 00:00:00-05:00  25.769885  27.211995  25.442448  26.975126   \n",
              "1 2013-03-31 00:00:00-04:00  26.814881  30.256437  26.787014  27.859888   \n",
              "2 2013-06-30 00:00:00-04:00  28.033505  29.282556  26.524817  26.791470   \n",
              "3 2013-09-30 00:00:00-04:00  27.040236  28.884371  26.022784  28.396839   \n",
              "4 2013-12-31 00:00:00-05:00  28.739229  29.663759  26.438658  27.377522   \n",
              "\n",
              "      Volume  Dividends  Stock Splits  \n",
              "0  627696600       0.00           0.0  \n",
              "1  894424000       0.28           0.0  \n",
              "2  863530400       0.28           0.0  \n",
              "3  947889200       0.56           0.0  \n",
              "4  975777300       0.00           0.0  "
            ]
          },
          "execution_count": 3,
          "metadata": {},
          "output_type": "execute_result"
        }
      ],
      "source": [
        "# Print the DataFrame with the 'Date' column\n",
        "quarterly_data.head()"
      ]
    },
    {
      "cell_type": "code",
      "execution_count": 4,
      "metadata": {
        "id": "3QWOQCo0pZCs"
      },
      "outputs": [],
      "source": [
        "# Let us export the data to a csv file as we will be merging this with other data as well\n",
        "#quarterly_data.to_csv('coca_cola_time_series_data.csv')"
      ]
    },
    {
      "cell_type": "markdown",
      "metadata": {
        "id": "ML4PG0Brpqho"
      },
      "source": [
        "Step 2: Next, we want to fetch data for Consumer Spending, GDP Growth, Inflation Rate, Interest Rate and Unemployment Rate from the FRED API. We will then store it in the combined_data DataFrame. We try to achieve this using the next few lines of code."
      ]
    },
    {
      "cell_type": "code",
      "execution_count": 9,
      "metadata": {
        "id": "RrxulcZiqnYw"
      },
      "outputs": [
        {
          "data": {
            "text/plain": [
              "<bound method DataFrame.reset_index of                 PCE      GDPC1  CPIAUCNS  GS10  UNRATE       Date\n",
              "DATE                                                             \n",
              "2012-12-31  11181.2  17489.852   229.601  1.72     7.9 2012-12-31\n",
              "2013-03-31  11290.1  17662.400   232.773  1.96     7.5 2013-03-31\n",
              "2013-06-30  11344.4  17709.671   233.504  2.30     7.5 2013-06-30\n",
              "2013-09-30  11445.9  17860.450   234.149  2.81     7.2 2013-09-30\n",
              "2013-12-31  11593.2  18016.147   233.049  2.90     6.7 2013-12-31\n",
              "2014-03-31  11722.3  17953.974   236.293  2.72     6.7 2014-03-31\n",
              "2014-06-30  11861.7  18185.911   238.343  2.60     6.1 2014-06-30\n",
              "2014-09-30  11991.4  18406.941   238.031  2.53     5.9 2014-09-30\n",
              "2014-12-31  12096.1  18500.031   234.812  2.21     5.6 2014-12-31\n",
              "2015-03-31  12176.1  18666.621   236.119  2.04     5.4 2015-03-31\n",
              "2015-06-30  12307.9  18782.243   238.638  2.36     5.3 2015-06-30\n",
              "2015-09-30  12386.4  18857.418   237.945  2.17     5.0 2015-09-30\n",
              "2015-12-31  12452.0  18892.206   236.525  2.24     5.0 2015-12-31\n",
              "2016-03-31  12537.0  19001.690   238.132  1.89     5.0 2016-03-31\n",
              "2016-06-30  12731.2  19062.709   241.018  1.64     4.9 2016-06-30\n",
              "2016-09-30  12846.6  19197.938   241.428  1.63     5.0 2016-09-30\n",
              "2016-12-31  13005.9  19304.352   241.432  2.49     4.7 2016-12-31\n",
              "2017-03-31  13139.9  19398.343   243.801  2.48     4.4 2017-03-31\n",
              "2017-06-30  13225.2  19506.949   244.955  2.19     4.3 2017-06-30\n",
              "2017-09-30  13417.3  19660.766   246.819  2.20     4.3 2017-09-30\n",
              "2017-12-31  13666.1  19882.352   246.524  2.40     4.1 2017-12-31\n",
              "2018-03-31  13793.2  20044.077   249.554  2.84     4.0 2018-03-31\n",
              "2018-06-30  13930.4  20150.476   251.989  2.91     4.0 2018-06-30\n",
              "2018-09-30  14017.8  20276.154   252.439  3.00     3.7 2018-09-30\n",
              "2018-12-31  14051.6  20304.874   251.233  2.83     3.9 2018-12-31\n",
              "2019-03-31  14240.1  20415.150   254.202  2.57     3.8 2019-03-31\n",
              "2019-06-30  14391.2  20584.528   256.143  2.07     3.6 2019-06-30\n",
              "2019-09-30  14555.6  20817.581   256.759  1.70     3.5 2019-09-30\n",
              "2019-12-31  14741.3  20951.088   256.974  1.86     3.6 2019-12-31\n",
              "2020-03-31  13793.0  20665.553   258.115  0.87     4.4 2020-03-31\n",
              "2020-06-30  14027.1  19034.830   257.797  0.73    11.0 2020-06-30\n",
              "2020-09-30  14655.0  20511.785   260.280  0.68     7.8 2020-09-30\n",
              "2020-12-31  14801.8  20724.128   260.474  0.93     6.7 2020-12-31\n",
              "2021-03-31  15657.6  20990.541   264.877  1.61     6.1 2021-03-31\n",
              "2021-06-30  16108.5  21309.544   271.696  1.52     5.9 2021-06-30\n",
              "2021-09-30  16398.9  21483.083   274.310  1.37     4.7 2021-09-30\n",
              "2021-12-31  16799.2  21847.602   278.802  1.47     3.9 2021-12-31\n",
              "2022-03-31  17203.6  21738.871   287.504  2.13     3.6 2022-03-31\n",
              "2022-06-30  17550.0  21708.160   296.311  3.14     3.6 2022-06-30\n",
              "2022-09-30  17804.0  21851.134   296.808  3.52     3.5 2022-09-30\n",
              "2022-12-31  17943.6  21989.981   296.797  3.62     3.5 2022-12-31\n",
              "2023-03-31  18282.6  22112.329   301.836  3.66     3.5 2023-03-31\n",
              "2023-06-30  18485.4  22225.350   305.109  3.75     3.6 2023-06-30\n",
              "2023-09-30  18791.5  22490.692   307.789  4.38     3.8 2023-09-30>"
            ]
          },
          "execution_count": 9,
          "metadata": {},
          "output_type": "execute_result"
        }
      ],
      "source": [
        "import pandas_datareader as pdr\n",
        "from datetime import datetime\n",
        "import pandas as pd\n",
        "\n",
        "# Define series codes and corresponding names\n",
        "economic_data = [\n",
        "    {'code': 'PCE', 'name': 'Consumer Spending'},\n",
        "    {'code': 'GDPC1', 'name': 'GDP Growth'},\n",
        "    {'code': 'CPIAUCNS', 'name': 'Inflation Rate'},\n",
        "    {'code': 'GS10', 'name': 'Interest Rates'},\n",
        "    {'code': 'UNRATE', 'name': 'Unemployment Rate'}\n",
        "]\n",
        "\n",
        "# Define the start and end dates for a span of 10 years\n",
        "start_date = '2012-09-30'\n",
        "end_date = '2023-09-01'\n",
        "\n",
        "# Initialize an empty DataFrame\n",
        "combined_data = pd.DataFrame()\n",
        "\n",
        "# Loop through the economic data list\n",
        "for item in economic_data:\n",
        "    # Retrieve data from FRED API\n",
        "    data = pdr.get_data_fred(item['code'], start_date, end_date)\n",
        "\n",
        "    # Resample data to quarterly frequency (taking the last value of each quarter)\n",
        "    data = data.resample('Q').last()\n",
        "\n",
        "    # Rename columns to include the economic indicator name\n",
        "    data = data.rename(columns={'value': item['name']})\n",
        "\n",
        "    # Merge data with existing combined_data DataFrame\n",
        "    combined_data = pd.concat([combined_data, data], axis=1)\n",
        "\n",
        "# Add the date column to the data\n",
        "combined_data['Date'] = combined_data.index\n",
        "\n",
        "combined_data.reset_index"
      ]
    },
    {
      "cell_type": "code",
      "execution_count": 10,
      "metadata": {
        "id": "ai4xbLufq9LM"
      },
      "outputs": [
        {
          "data": {
            "text/html": [
              "<div>\n",
              "<style scoped>\n",
              "    .dataframe tbody tr th:only-of-type {\n",
              "        vertical-align: middle;\n",
              "    }\n",
              "\n",
              "    .dataframe tbody tr th {\n",
              "        vertical-align: top;\n",
              "    }\n",
              "\n",
              "    .dataframe thead th {\n",
              "        text-align: right;\n",
              "    }\n",
              "</style>\n",
              "<table border=\"1\" class=\"dataframe\">\n",
              "  <thead>\n",
              "    <tr style=\"text-align: right;\">\n",
              "      <th></th>\n",
              "      <th>PCE</th>\n",
              "      <th>GDPC1</th>\n",
              "      <th>CPIAUCNS</th>\n",
              "      <th>GS10</th>\n",
              "      <th>UNRATE</th>\n",
              "      <th>Date</th>\n",
              "    </tr>\n",
              "    <tr>\n",
              "      <th>DATE</th>\n",
              "      <th></th>\n",
              "      <th></th>\n",
              "      <th></th>\n",
              "      <th></th>\n",
              "      <th></th>\n",
              "      <th></th>\n",
              "    </tr>\n",
              "  </thead>\n",
              "  <tbody>\n",
              "    <tr>\n",
              "      <th>2012-12-31</th>\n",
              "      <td>11181.2</td>\n",
              "      <td>17489.852</td>\n",
              "      <td>229.601</td>\n",
              "      <td>1.72</td>\n",
              "      <td>7.9</td>\n",
              "      <td>2012-12-31</td>\n",
              "    </tr>\n",
              "    <tr>\n",
              "      <th>2013-03-31</th>\n",
              "      <td>11290.1</td>\n",
              "      <td>17662.400</td>\n",
              "      <td>232.773</td>\n",
              "      <td>1.96</td>\n",
              "      <td>7.5</td>\n",
              "      <td>2013-03-31</td>\n",
              "    </tr>\n",
              "    <tr>\n",
              "      <th>2013-06-30</th>\n",
              "      <td>11344.4</td>\n",
              "      <td>17709.671</td>\n",
              "      <td>233.504</td>\n",
              "      <td>2.30</td>\n",
              "      <td>7.5</td>\n",
              "      <td>2013-06-30</td>\n",
              "    </tr>\n",
              "    <tr>\n",
              "      <th>2013-09-30</th>\n",
              "      <td>11445.9</td>\n",
              "      <td>17860.450</td>\n",
              "      <td>234.149</td>\n",
              "      <td>2.81</td>\n",
              "      <td>7.2</td>\n",
              "      <td>2013-09-30</td>\n",
              "    </tr>\n",
              "    <tr>\n",
              "      <th>2013-12-31</th>\n",
              "      <td>11593.2</td>\n",
              "      <td>18016.147</td>\n",
              "      <td>233.049</td>\n",
              "      <td>2.90</td>\n",
              "      <td>6.7</td>\n",
              "      <td>2013-12-31</td>\n",
              "    </tr>\n",
              "  </tbody>\n",
              "</table>\n",
              "</div>"
            ],
            "text/plain": [
              "                PCE      GDPC1  CPIAUCNS  GS10  UNRATE       Date\n",
              "DATE                                                             \n",
              "2012-12-31  11181.2  17489.852   229.601  1.72     7.9 2012-12-31\n",
              "2013-03-31  11290.1  17662.400   232.773  1.96     7.5 2013-03-31\n",
              "2013-06-30  11344.4  17709.671   233.504  2.30     7.5 2013-06-30\n",
              "2013-09-30  11445.9  17860.450   234.149  2.81     7.2 2013-09-30\n",
              "2013-12-31  11593.2  18016.147   233.049  2.90     6.7 2013-12-31"
            ]
          },
          "execution_count": 10,
          "metadata": {},
          "output_type": "execute_result"
        }
      ],
      "source": [
        "#visualising our combines_dataframe\n",
        "combined_data.head()"
      ]
    },
    {
      "cell_type": "code",
      "execution_count": 11,
      "metadata": {
        "id": "frvS3h-nq7-T"
      },
      "outputs": [],
      "source": [
        "# Let us export the data to a csv file as we will be merging this with other data as well\n",
        "#combined_data.to_csv('economic_data_with_single_date_column_quarterly.csv', index=False)"
      ]
    },
    {
      "cell_type": "markdown",
      "metadata": {
        "id": "ExLVCD2M2gnM"
      },
      "source": [
        "Step 3: Let us do some data formatting to be able to merge the datasets. We will do this for both - quaterly_data and combined_data. We will be formatting only the date column into a proper format. All the other data is okay."
      ]
    },
    {
      "cell_type": "code",
      "execution_count": 12,
      "metadata": {
        "id": "uXyudHR-2bJo"
      },
      "outputs": [
        {
          "data": {
            "text/plain": [
              "0    12-31-2012\n",
              "1    03-31-2013\n",
              "2    06-30-2013\n",
              "3    09-30-2013\n",
              "4    12-31-2013\n",
              "Name: Date, dtype: object"
            ]
          },
          "execution_count": 12,
          "metadata": {},
          "output_type": "execute_result"
        }
      ],
      "source": [
        "#Format the dates in the \"Date\" column of the quarterly_data DataFrame to a string format in the \"mm-dd-yyyy\" style\n",
        "quarterly_data['Date'] = quarterly_data['Date'].apply(lambda x: x.strftime(\"%m-%d-%Y\"))\n",
        "\n",
        "#Visualise the Date column\n",
        "quarterly_data[\"Date\"].head()"
      ]
    },
    {
      "cell_type": "code",
      "execution_count": 13,
      "metadata": {
        "id": "4m2oxj4A2z3c"
      },
      "outputs": [
        {
          "data": {
            "text/plain": [
              "DATE\n",
              "2012-12-31    12-31-2012\n",
              "2013-03-31    03-31-2013\n",
              "2013-06-30    06-30-2013\n",
              "2013-09-30    09-30-2013\n",
              "2013-12-31    12-31-2013\n",
              "Freq: Q-DEC, Name: Date, dtype: object"
            ]
          },
          "execution_count": 13,
          "metadata": {},
          "output_type": "execute_result"
        }
      ],
      "source": [
        "#Format the dates in the \"Date\" column of the quarterly_data DataFrame to a string format in the \"mm-dd-yyyy\" style\n",
        "combined_data['Date'] = combined_data['Date'].apply(lambda x: x.strftime(\"%m-%d-%Y\"))\n",
        "\n",
        "#Visualise the Date column\n",
        "combined_data[\"Date\"].head()"
      ]
    },
    {
      "cell_type": "markdown",
      "metadata": {
        "id": "7vZqQO2a3Coc"
      },
      "source": [
        "Step 4: Now that we have formatted our data in the final format, let us merge both of these files into one single file. We will merge them on the basis of the date column using an inner join."
      ]
    },
    {
      "cell_type": "code",
      "execution_count": 14,
      "metadata": {
        "id": "u9AbsV1h3phk"
      },
      "outputs": [
        {
          "data": {
            "text/html": [
              "<div>\n",
              "<style scoped>\n",
              "    .dataframe tbody tr th:only-of-type {\n",
              "        vertical-align: middle;\n",
              "    }\n",
              "\n",
              "    .dataframe tbody tr th {\n",
              "        vertical-align: top;\n",
              "    }\n",
              "\n",
              "    .dataframe thead th {\n",
              "        text-align: right;\n",
              "    }\n",
              "</style>\n",
              "<table border=\"1\" class=\"dataframe\">\n",
              "  <thead>\n",
              "    <tr style=\"text-align: right;\">\n",
              "      <th></th>\n",
              "      <th>Date</th>\n",
              "      <th>Open</th>\n",
              "      <th>High</th>\n",
              "      <th>Low</th>\n",
              "      <th>Close</th>\n",
              "      <th>Volume</th>\n",
              "      <th>Dividends</th>\n",
              "      <th>Stock Splits</th>\n",
              "      <th>PCE</th>\n",
              "      <th>GDPC1</th>\n",
              "      <th>CPIAUCNS</th>\n",
              "      <th>GS10</th>\n",
              "      <th>UNRATE</th>\n",
              "    </tr>\n",
              "  </thead>\n",
              "  <tbody>\n",
              "    <tr>\n",
              "      <th>0</th>\n",
              "      <td>12-31-2012</td>\n",
              "      <td>25.769885</td>\n",
              "      <td>27.211995</td>\n",
              "      <td>25.442448</td>\n",
              "      <td>26.975126</td>\n",
              "      <td>627696600</td>\n",
              "      <td>0.00</td>\n",
              "      <td>0.0</td>\n",
              "      <td>11181.2</td>\n",
              "      <td>17489.852</td>\n",
              "      <td>229.601</td>\n",
              "      <td>1.72</td>\n",
              "      <td>7.9</td>\n",
              "    </tr>\n",
              "    <tr>\n",
              "      <th>1</th>\n",
              "      <td>03-31-2013</td>\n",
              "      <td>26.814881</td>\n",
              "      <td>30.256437</td>\n",
              "      <td>26.787014</td>\n",
              "      <td>27.859888</td>\n",
              "      <td>894424000</td>\n",
              "      <td>0.28</td>\n",
              "      <td>0.0</td>\n",
              "      <td>11290.1</td>\n",
              "      <td>17662.400</td>\n",
              "      <td>232.773</td>\n",
              "      <td>1.96</td>\n",
              "      <td>7.5</td>\n",
              "    </tr>\n",
              "    <tr>\n",
              "      <th>2</th>\n",
              "      <td>06-30-2013</td>\n",
              "      <td>28.033505</td>\n",
              "      <td>29.282556</td>\n",
              "      <td>26.524817</td>\n",
              "      <td>26.791470</td>\n",
              "      <td>863530400</td>\n",
              "      <td>0.28</td>\n",
              "      <td>0.0</td>\n",
              "      <td>11344.4</td>\n",
              "      <td>17709.671</td>\n",
              "      <td>233.504</td>\n",
              "      <td>2.30</td>\n",
              "      <td>7.5</td>\n",
              "    </tr>\n",
              "    <tr>\n",
              "      <th>3</th>\n",
              "      <td>09-30-2013</td>\n",
              "      <td>27.040236</td>\n",
              "      <td>28.884371</td>\n",
              "      <td>26.022784</td>\n",
              "      <td>28.396839</td>\n",
              "      <td>947889200</td>\n",
              "      <td>0.56</td>\n",
              "      <td>0.0</td>\n",
              "      <td>11445.9</td>\n",
              "      <td>17860.450</td>\n",
              "      <td>234.149</td>\n",
              "      <td>2.81</td>\n",
              "      <td>7.2</td>\n",
              "    </tr>\n",
              "    <tr>\n",
              "      <th>4</th>\n",
              "      <td>12-31-2013</td>\n",
              "      <td>28.739229</td>\n",
              "      <td>29.663759</td>\n",
              "      <td>26.438658</td>\n",
              "      <td>27.377522</td>\n",
              "      <td>975777300</td>\n",
              "      <td>0.00</td>\n",
              "      <td>0.0</td>\n",
              "      <td>11593.2</td>\n",
              "      <td>18016.147</td>\n",
              "      <td>233.049</td>\n",
              "      <td>2.90</td>\n",
              "      <td>6.7</td>\n",
              "    </tr>\n",
              "  </tbody>\n",
              "</table>\n",
              "</div>"
            ],
            "text/plain": [
              "         Date       Open       High        Low      Close     Volume  \\\n",
              "0  12-31-2012  25.769885  27.211995  25.442448  26.975126  627696600   \n",
              "1  03-31-2013  26.814881  30.256437  26.787014  27.859888  894424000   \n",
              "2  06-30-2013  28.033505  29.282556  26.524817  26.791470  863530400   \n",
              "3  09-30-2013  27.040236  28.884371  26.022784  28.396839  947889200   \n",
              "4  12-31-2013  28.739229  29.663759  26.438658  27.377522  975777300   \n",
              "\n",
              "   Dividends  Stock Splits      PCE      GDPC1  CPIAUCNS  GS10  UNRATE  \n",
              "0       0.00           0.0  11181.2  17489.852   229.601  1.72     7.9  \n",
              "1       0.28           0.0  11290.1  17662.400   232.773  1.96     7.5  \n",
              "2       0.28           0.0  11344.4  17709.671   233.504  2.30     7.5  \n",
              "3       0.56           0.0  11445.9  17860.450   234.149  2.81     7.2  \n",
              "4       0.00           0.0  11593.2  18016.147   233.049  2.90     6.7  "
            ]
          },
          "execution_count": 14,
          "metadata": {},
          "output_type": "execute_result"
        }
      ],
      "source": [
        "#define a dataframe to store the merged files\n",
        "merged_df = pd.merge(quarterly_data, combined_data, on=\"Date\", how=\"inner\")\n",
        "\n",
        "# Print the merged DataFrame\n",
        "merged_df.head()"
      ]
    },
    {
      "cell_type": "code",
      "execution_count": 15,
      "metadata": {
        "id": "-WKh-70r32Mk"
      },
      "outputs": [
        {
          "data": {
            "text/html": [
              "<div>\n",
              "<style scoped>\n",
              "    .dataframe tbody tr th:only-of-type {\n",
              "        vertical-align: middle;\n",
              "    }\n",
              "\n",
              "    .dataframe tbody tr th {\n",
              "        vertical-align: top;\n",
              "    }\n",
              "\n",
              "    .dataframe thead th {\n",
              "        text-align: right;\n",
              "    }\n",
              "</style>\n",
              "<table border=\"1\" class=\"dataframe\">\n",
              "  <thead>\n",
              "    <tr style=\"text-align: right;\">\n",
              "      <th></th>\n",
              "      <th>Date</th>\n",
              "      <th>Close</th>\n",
              "      <th>PCE</th>\n",
              "      <th>GDPC1</th>\n",
              "      <th>CPIAUCNS</th>\n",
              "      <th>GS10</th>\n",
              "      <th>UNRATE</th>\n",
              "    </tr>\n",
              "  </thead>\n",
              "  <tbody>\n",
              "    <tr>\n",
              "      <th>0</th>\n",
              "      <td>12-31-2012</td>\n",
              "      <td>26.975126</td>\n",
              "      <td>11181.2</td>\n",
              "      <td>17489.852</td>\n",
              "      <td>229.601</td>\n",
              "      <td>1.72</td>\n",
              "      <td>7.9</td>\n",
              "    </tr>\n",
              "    <tr>\n",
              "      <th>1</th>\n",
              "      <td>03-31-2013</td>\n",
              "      <td>27.859888</td>\n",
              "      <td>11290.1</td>\n",
              "      <td>17662.400</td>\n",
              "      <td>232.773</td>\n",
              "      <td>1.96</td>\n",
              "      <td>7.5</td>\n",
              "    </tr>\n",
              "    <tr>\n",
              "      <th>2</th>\n",
              "      <td>06-30-2013</td>\n",
              "      <td>26.791470</td>\n",
              "      <td>11344.4</td>\n",
              "      <td>17709.671</td>\n",
              "      <td>233.504</td>\n",
              "      <td>2.30</td>\n",
              "      <td>7.5</td>\n",
              "    </tr>\n",
              "    <tr>\n",
              "      <th>3</th>\n",
              "      <td>09-30-2013</td>\n",
              "      <td>28.396839</td>\n",
              "      <td>11445.9</td>\n",
              "      <td>17860.450</td>\n",
              "      <td>234.149</td>\n",
              "      <td>2.81</td>\n",
              "      <td>7.2</td>\n",
              "    </tr>\n",
              "    <tr>\n",
              "      <th>4</th>\n",
              "      <td>12-31-2013</td>\n",
              "      <td>27.377522</td>\n",
              "      <td>11593.2</td>\n",
              "      <td>18016.147</td>\n",
              "      <td>233.049</td>\n",
              "      <td>2.90</td>\n",
              "      <td>6.7</td>\n",
              "    </tr>\n",
              "  </tbody>\n",
              "</table>\n",
              "</div>"
            ],
            "text/plain": [
              "         Date      Close      PCE      GDPC1  CPIAUCNS  GS10  UNRATE\n",
              "0  12-31-2012  26.975126  11181.2  17489.852   229.601  1.72     7.9\n",
              "1  03-31-2013  27.859888  11290.1  17662.400   232.773  1.96     7.5\n",
              "2  06-30-2013  26.791470  11344.4  17709.671   233.504  2.30     7.5\n",
              "3  09-30-2013  28.396839  11445.9  17860.450   234.149  2.81     7.2\n",
              "4  12-31-2013  27.377522  11593.2  18016.147   233.049  2.90     6.7"
            ]
          },
          "execution_count": 15,
          "metadata": {},
          "output_type": "execute_result"
        }
      ],
      "source": [
        "#We want to remove the columns which we do not want to use. Let us drop these\n",
        "merged_df = merged_df.drop(columns=['Open','High','Low','Volume','Dividends','Stock Splits'])\n",
        "\n",
        "#Visualize the final dataframe\n",
        "merged_df.head()"
      ]
    },
    {
      "cell_type": "markdown",
      "metadata": {
        "id": "gtjrLGv05iRD"
      },
      "source": [
        "We are finally done processing our dataset. Now, we have data at the end of every quarter starting from Sep 2012 to Sep 2023. Let us do a quick recap.\n",
        "1. We pulled stock prices data and filtered out everything except Closing prices from yahoofinance.\n",
        "2. We pulled other economic indicators from the FRED API.\n",
        "3. We merged both of these datasets based on the date.\n",
        "\n",
        "What we want to be able to find a realtion between other factors and the 'Closing' price of the stock at the end of a particular quarter given the other parameter. Hence, the 'Closing Price' becomes our dependent or target variable and all the other variables become our independent variables (or features)."
      ]
    },
    {
      "cell_type": "markdown",
      "metadata": {
        "id": "AcseF0xX7Q5A"
      },
      "source": [
        "## Implementation"
      ]
    },
    {
      "cell_type": "markdown",
      "metadata": {
        "id": "x8Tg_zaY7VhF"
      },
      "source": [
        "Let us move on to the implementation phase.\n",
        "\n",
        "Let us define our feature space and labes.\n",
        "As mentioned earlier, we are trying to predict stock price hence the 'closing price' column will be our prediction. Everyting else will be part of the 'features'."
      ]
    },
    {
      "cell_type": "code",
      "execution_count": 16,
      "metadata": {
        "id": "kY4JUNW1PSe9"
      },
      "outputs": [],
      "source": [
        "#import all necessary libraries\n",
        "from sklearn.svm import SVR\n",
        "from sklearn.preprocessing import StandardScaler\n",
        "from sklearn.model_selection import train_test_split\n",
        "from sklearn.metrics import mean_absolute_error, mean_squared_error\n",
        "\n",
        "# Assuming 'df' is your DataFrame containing the data\n",
        "X = merged_df[['PCE', 'GDPC1', 'CPIAUCNS', 'GS10', 'UNRATE']]  # Independent variables\n",
        "y = merged_df['Close']  # Dependent variable"
      ]
    },
    {
      "cell_type": "markdown",
      "metadata": {
        "id": "aRhF6Mh5OxeW"
      },
      "source": [
        "Scaling the Data: Data scaling is the process of transforming the values of the features of a dataset till they are within a specific range, e.g. 0 to 1 or -1 to 1. This is to ensure that no single feature 'dominates' the distance calculations in an algorithm, and can help to improve the performance of the algorithm.\n",
        "\n",
        "Scaling your data in machine learning is important because many algorithms use the L-2 norm between two data points in their computations, which is sensitive to the scale of the variables. If one variable is on a much larger scale than another, that variable will dominate the distance calculation, and the algorithm will be affected by that variable more than the other irrespective of the importance of that variable in being a predictor. Scaling the data can help to balance the impact of all variables on the distance calculation and can help to improve the performance of the algorithm.\n",
        "\n",
        "Source: https://medium.com/codex/why-scaling-your-data-is-important-1aff95ca97a2\n",
        "\n",
        "The following code uses the StandardScaler object from scikit-learn to standardize the features in both the training and testing sets. Standardization (or Z-score normalization) is a common preprocessing step in machine learning that helps to scale features to have zero mean and unit variance. As mentioned above, Standardizing features is important because it helps to ensure that all features contribute equally to the learning process, and it can improve the performance of certain machine learning algorithms. Keep in mind, we need to scale features on both - the training AND testing sets."
      ]
    },
    {
      "cell_type": "code",
      "execution_count": 17,
      "metadata": {
        "id": "BcFC0CBaPq4n"
      },
      "outputs": [],
      "source": [
        "# Standardize the data\n",
        "scaler = StandardScaler()\n",
        "X = scaler.fit_transform(X)"
      ]
    },
    {
      "cell_type": "markdown",
      "metadata": {
        "id": "d7q8DU8dO9_v"
      },
      "source": [
        "While training a Machine Learning model, we split our 'Supervised' Dataset into a Training Dataset and a Testing Dataset. We use the training dataset to 'train' our model and the testing dataset to verify how accurate our trained model is at predicting on unknown data (The training data is unknown to the model as we have not used it to train the paramaters).\n",
        "\n",
        "  1. X_train: This will be the training set of features (size = 80% of training set).\n",
        "  2. X_test: This will be the testing set of features (size = 20% of testing set).\n",
        "  3. y_train: This will be the corresponding training set of target values (size = 80% of training set).\n",
        "  4. y_test: This will be the corresponding testing set of target values (size = 20% of testing set).\n",
        "\n",
        "We can use the train_test_split function which randomly splits the data into training and testing sets. By default, 80% of the data will be used for training (X_train and y_train), and 20% will be used for testing (X_test and y_test), as specified by the test_size=0.2 argument. It is a standard practise to use an 80-20 split. The motivation behind this is loosely the Pareto principle.The Pareto principle is not a mathematically guaranteed property, but many observed phenomena follow the Pareto principle. As it is seen ubiquitous in nature, we try to emulate the same conjecture with our model. After all, we are trying to emulate 'intelligence'."
      ]
    },
    {
      "cell_type": "code",
      "execution_count": 18,
      "metadata": {
        "id": "3DM8pOTlPxjD"
      },
      "outputs": [],
      "source": [
        "# Split the data into training and testing sets\n",
        "X_train, X_test, y_train, y_test = train_test_split(X, y, test_size=0.2, random_state=42)"
      ]
    },
    {
      "cell_type": "markdown",
      "metadata": {
        "id": "j72s8awTP8ek"
      },
      "source": [
        "Now we have the scaled and separated data which we can use to train our model. We will do this using the the SVC fucntion which is pre-defined in Python. The usual process is:\n",
        "1. Define the ML model.\n",
        "2. Fit the model to our training set.\n",
        "3. Predict values of our testing set using this model.\n",
        "4. Calculate accuracy.\n",
        "5. If not happy with the results, repeat the process above with different paramaters."
      ]
    },
    {
      "cell_type": "markdown",
      "metadata": {
        "id": "LKKjdYqXQB0R"
      },
      "source": [
        "While implemeting SVR, we have to decide what parameters to give to the function. The most important being the kernel type, the regularization parameter and the epsilon-tube width. The final parameters are chosen after trying various values for the parameters and choosing the best set. In practise, it is common to initialise generic values.\n",
        "1. Kernel: Specifies the kernel type to be used in the algorithm.\n",
        "2. Regularization parameter: The strength of the regularization is inversely proportional to C. Must be strictly positive. The penalty is a squared l2 penalty.\n",
        "3. Epsilon in the epsilon-SVR model. It specifies the epsilon-tube within which no penalty is associated in the training loss function with points predicted within a distance epsilon from the actual value. Must be non-negative."
      ]
    },
    {
      "cell_type": "code",
      "execution_count": 19,
      "metadata": {
        "id": "BjKXcD-B5zcm"
      },
      "outputs": [],
      "source": [
        "# Initialize SVR model\n",
        "svr_model = SVR(kernel='rbf', C=3.0, epsilon=0.1)\n",
        "\n",
        "# Fit the model\n",
        "svr_model.fit(X_train, y_train)\n",
        "\n",
        "# Predict 'Close' values\n",
        "y_pred = svr_model.predict(X_test)"
      ]
    },
    {
      "cell_type": "markdown",
      "metadata": {
        "id": "a03WGs7STIeL"
      },
      "source": [
        "## Analysis"
      ]
    },
    {
      "cell_type": "markdown",
      "metadata": {
        "id": "XndTdAFd7Tbn"
      },
      "source": [
        "Let us write a small code that will generate a scatter plot comparing the actual 'Close' prices (y_test) with the predicted 'Close' prices (y_pred)."
      ]
    },
    {
      "cell_type": "code",
      "execution_count": 20,
      "metadata": {
        "id": "mSdv6yYt7Qj2"
      },
      "outputs": [
        {
          "data": {
            "image/png": "[encoded data removed]",
            "text/plain": [
              "<Figure size 400x300 with 1 Axes>"
            ]
          },
          "metadata": {},
          "output_type": "display_data"
        }
      ],
      "source": [
        "import matplotlib.pyplot as plt\n",
        "\n",
        "# Assuming 'y_test' contains actual 'Close' prices and 'y_pred' contains predicted 'Close' prices\n",
        "plt.figure(figsize=(4,3))\n",
        "plt.scatter(y_test, y_pred, color='blue')\n",
        "plt.plot([min(y_test), max(y_test)], [min(y_test), max(y_test)], linestyle='--', color='red', linewidth=2)\n",
        "plt.xlabel('Actual Close Prices')\n",
        "plt.ylabel('Predicted Close Prices')\n",
        "plt.title('Actual vs. Predicted Close Prices')\n",
        "plt.grid(True)\n",
        "plt.show()"
      ]
    },
    {
      "cell_type": "markdown",
      "metadata": {
        "id": "GdLOkYCoRtCx"
      },
      "source": [
        "Now that we have fit our model to the data, we need some metrics to verify how well the model has performed. A few of the most common metrics for verification are:\n",
        "1. Mean Absolute Error: MAE measures the average absolute difference between the actual and predicted values. It is less sensitive to outliers compared to MSE and RMSE. A lower MAE indicates better performance.\n",
        "2. Root Mean Square Error: RMSE is the root of the Mean Squared Error(MSE). MSE measures the average squared difference between the actual and predicted values. A lower RMSE (and MSE) indicates better performance.\n",
        "3. Mean Absolute Percentage Error: MAPE calculates the average percentage difference between the actual and predicted values. It provides a measure of the relative error and is useful for comparing the performance of the model across different datasets."
      ]
    },
    {
      "cell_type": "code",
      "execution_count": 21,
      "metadata": {
        "id": "_Bh_NbgpUQkI"
      },
      "outputs": [],
      "source": [
        "#Defining a fucntion to calculate MAPE as there is no in-built fucntion\n",
        "def mean_absolute_percentage_error(y_true, y_pred):\n",
        "    # Convert input arrays to numpy arrays to ensure compatibility with mathematical operations\n",
        "    y_true = np.array(y_true)\n",
        "    y_pred = np.array(y_pred)\n",
        "\n",
        "    # Calculate absolute percentage error for each data point\n",
        "    abs_percentage_error = np.abs((y_true - y_pred) / y_true)\n",
        "\n",
        "    # Calculate the mean of absolute percentage errors\n",
        "    mape = np.mean(abs_percentage_error) * 100\n",
        "\n",
        "    return mape"
      ]
    },
    {
      "cell_type": "code",
      "execution_count": 24,
      "metadata": {
        "id": "wjbEN27CRtaL"
      },
      "outputs": [
        {
          "name": "stdout",
          "output_type": "stream",
          "text": [
            "Mean Absolute Error (MAE): 3.3116367337657833\n",
            "Root Mean Squared Error (RMSE): 4.290001556333118\n",
            "Mean Absolute Percentage Error (MAPE): 7.35%\n"
          ]
        }
      ],
      "source": [
        "import numpy as np\n",
        "\n",
        "# Calculate Mean Absolute Error (MAE) and Root Mean Squared Error (RMSE)\n",
        "mae = mean_absolute_error(y_test, y_pred)\n",
        "rmse = mean_squared_error(y_test, y_pred, squared=False)\n",
        "mape = mean_absolute_percentage_error(y_test, y_pred)\n",
        "\n",
        "print(f\"Mean Absolute Error (MAE): {mae}\")\n",
        "print(f\"Root Mean Squared Error (RMSE): {rmse}\")\n",
        "print(\"Mean Absolute Percentage Error (MAPE): {:.2f}%\".format(mape))"
      ]
    },
    {
      "cell_type": "markdown",
      "metadata": {
        "id": "Ki9LflLJTSnB"
      },
      "source": [
        "By analysing these metrics, investors can make a decision about the accuracy of their models to decide how much risk to bear. They can make use of strategies like shorting, stoploss etc to account for additional risk. Analysing the above metrics.\n",
        "1. MAE: On an average, we are 3.3 off from the original price. For a share price of 10, 3.3 is alot (approx 33%). But for a share price of 100, 3.3 is not too muhc (3.3%). Hence, it is more useful to use the MAPE metric.\n",
        "2. MAPE: On an average, we are 7.35% off the actual value. This metric gives us a good 'error' rate of the model. If my model tells me that the share price will be 100, I can fairly assume it be in the range of 92.5 to 107.5.\n",
        "3. RMSE: RMSE penalizes large errors more heavily compared to Mean Absolute Error (MAE). In the context of stock price prediction, large errors can have significant financial implications for investors. Thus, we want our RMSE to be as close as possible to the MAE. By using this metric along with the MAE, we can get an idea of how many 'large errors' our model has.\n",
        "\n",
        "In a real world setting, all of these errors are too big. Even the smallest 0.1% of errors make a huge difference. But owing to the limited data and compute power we have at our disposal, this gives a good idea about how a model works and how we can predict the accuracy of the model.\n",
        "\n",
        "Let us also try to get a basic idea of the pros and cons associated with SVRs.\n",
        "\n",
        "**Pros:**\n",
        "1. Handles Non-Linearity: SVR is capable of modeling complex, non-linear relationships between the independent and dependent variables.\n",
        "2. Effective in High-Dimensional Spaces: SVR can be effective even when the number of features is greater than the number of samples, making it suitable for high-dimensional data.\n",
        "3. Robust to Outliers: SVR is less sensitive to outliers in the data compared to some other regression techniques.\n",
        "4. Flexibility in Kernels: SVR allows the use of different kernel functions (e.g., linear, polynomial, radial basis function) to better capture underlying patterns in the data.\n",
        "\n",
        "**Cons:**\n",
        "1. Computationally Intensive: Training an SVR model can be computationally expensive, especially with large datasets. It may require more time and resources compared to simpler models.\n",
        "2. Sensitive to Kernel Choice: The choice of kernel and associated hyperparameters can significantly impact model performance. It may require experimentation and tuning.\n",
        "3. Limited Scalability: SVR may not be the best choice for very large datasets due to its computational demands.\n",
        "4. Potential Overfitting: Without proper hyperparameter tuning, SVR can be prone to overfitting, especially if the kernel is too complex.\n",
        "5. Requires Feature Scaling: SVR is sensitive to the scale of features. It's important to standardize or normalize the features before fitting the model."
      ]
    }
  ],
  "metadata": {
    "colab": {
      "collapsed_sections": [
        "CmF1Zw1UTLKc",
        "NYJjYObY8rCt",
        "fTZCdtUhBhHS",
        "ZZN6Dr4TKaqI",
        "alDzJzwVn_Kw",
        "AcseF0xX7Q5A",
        "YthdkKGIBOd3",
        "3n2sq6gUBXb3",
        "Lwh_VRtgB5qd"
      ],
      "provenance": [],
      "toc_visible": true
    },
    "kernelspec": {
      "display_name": "MLforfinance",
      "language": "python",
      "name": "python3"
    },
    "language_info": {
      "codemirror_mode": {
        "name": "ipython",
        "version": 3
      },
      "file_extension": ".py",
      "mimetype": "text/x-python",
      "name": "python",
      "nbconvert_exporter": "python",
      "pygments_lexer": "ipython3",
      "version": "3.12.2"
    }
  },
  "nbformat": 4,
  "nbformat_minor": 0
}
